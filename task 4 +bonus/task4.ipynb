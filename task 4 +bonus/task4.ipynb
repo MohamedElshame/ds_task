{
 "cells": [
  {
   "cell_type": "code",
   "execution_count": 46,
   "id": "b924031c",
   "metadata": {},
   "outputs": [],
   "source": [
    "import pandas as pd\n"
   ]
  },
  {
   "cell_type": "code",
   "execution_count": 47,
   "id": "fa63946b",
   "metadata": {},
   "outputs": [],
   "source": [
    "thecsv= \"D:/titanic.csv\" # لما عملتها ب \\ طلعت  escape character محتاج اراجع شويه\n",
    "df= pd.read_csv(thecsv)"
   ]
  },
  {
   "cell_type": "code",
   "execution_count": 48,
   "id": "96db9784",
   "metadata": {},
   "outputs": [],
   "source": [
    "df= df.dropna(subset=[\"age\"])\n"
   ]
  },
  {
   "cell_type": "code",
   "execution_count": 49,
   "id": "308cfaeb",
   "metadata": {},
   "outputs": [],
   "source": [
    "averagebyclass= df.groupby (\"pclass\")[\"fare\"].mean()"
   ]
  },
  {
   "cell_type": "code",
   "execution_count": 50,
   "id": "c8908cf6",
   "metadata": {},
   "outputs": [
    {
     "name": "stdout",
     "output_type": "stream",
     "text": [
      "average fare paid by passengers in each passenger class:  \n",
      "pclass\n",
      "1    87.961582\n",
      "2    21.471556\n",
      "3    13.229435\n",
      "Name: fare, dtype: float64\n"
     ]
    }
   ],
   "source": [
    "print (\"average fare paid by passengers in each passenger class:  \")\n",
    "print(averagebyclass)"
   ]
  },
  {
   "cell_type": "code",
   "execution_count": 51,
   "id": "afb25220",
   "metadata": {},
   "outputs": [],
   "source": [
    "survivalRateGender= df.groupby(\"sex\")[\"survived\"].mean()"
   ]
  },
  {
   "cell_type": "code",
   "execution_count": 52,
   "id": "c1179cd9",
   "metadata": {},
   "outputs": [
    {
     "name": "stdout",
     "output_type": "stream",
     "text": [
      "survival rate by gender: \n",
      "sex\n",
      "female    0.754789\n",
      "male      0.205298\n",
      "Name: survived, dtype: float64\n"
     ]
    }
   ],
   "source": [
    "print(\"survival rate by gender: \")\n",
    "print(survivalRateGender)"
   ]
  },
  {
   "cell_type": "code",
   "execution_count": null,
   "id": "6cd2b9aa",
   "metadata": {},
   "outputs": [],
   "source": [
    "def categorize_age(age):\n",
    "    if age  < 18:\n",
    "        return \"child\"\n",
    "    elif 18 <= age < 60:\n",
    "        return \"adult\"\n",
    "    else:\n",
    "        return \"senior\""
   ]
  },
  {
   "cell_type": "code",
   "execution_count": 54,
   "id": "127bc1d2",
   "metadata": {},
   "outputs": [],
   "source": [
    "df[\"age_group\"] = df[\"age\"].apply(categorize_age)"
   ]
  },
  {
   "cell_type": "code",
   "execution_count": 55,
   "id": "10dd043e",
   "metadata": {},
   "outputs": [
    {
     "name": "stdout",
     "output_type": "stream",
     "text": [
      "Cleaned dataset saved to \n",
      " 'cleaned__titanic.csv'\n"
     ]
    }
   ],
   "source": [
    "df.to_csv(\"cleaned__titanic.csv\", index=False)\n",
    "print(\"Cleaned dataset saved to \\n 'cleaned__titanic.csv'\")"
   ]
  }
 ],
 "metadata": {
  "kernelspec": {
   "display_name": "Python 3",
   "language": "python",
   "name": "python3"
  },
  "language_info": {
   "codemirror_mode": {
    "name": "ipython",
    "version": 3
   },
   "file_extension": ".py",
   "mimetype": "text/x-python",
   "name": "python",
   "nbconvert_exporter": "python",
   "pygments_lexer": "ipython3",
   "version": "3.13.2"
  }
 },
 "nbformat": 4,
 "nbformat_minor": 5
}
