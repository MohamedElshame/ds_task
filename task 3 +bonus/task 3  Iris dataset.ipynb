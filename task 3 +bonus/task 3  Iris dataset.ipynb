{
 "cells": [
  {
   "cell_type": "code",
   "execution_count": 138,
   "id": "3385cdb9",
   "metadata": {},
   "outputs": [],
   "source": [
    "import pandas as pd"
   ]
  },
  {
   "cell_type": "code",
   "execution_count": 139,
   "id": "f8146154",
   "metadata": {},
   "outputs": [
    {
     "name": "stderr",
     "output_type": "stream",
     "text": [
      "<>:1: SyntaxWarning: invalid escape sequence '\\i'\n",
      "<>:1: SyntaxWarning: invalid escape sequence '\\i'\n",
      "C:\\Users\\Mohamed\\AppData\\Local\\Temp\\ipykernel_8260\\474189999.py:1: SyntaxWarning: invalid escape sequence '\\i'\n",
      "  file_path =\"D:\\iris.csv\"\n"
     ]
    }
   ],
   "source": [
    "file_path =\"D:\\iris.csv\""
   ]
  },
  {
   "cell_type": "code",
   "execution_count": 140,
   "id": "5467ac9c",
   "metadata": {},
   "outputs": [],
   "source": [
    "df = pd.read_csv(file_path)"
   ]
  },
  {
   "cell_type": "code",
   "execution_count": 141,
   "id": "e9502206",
   "metadata": {},
   "outputs": [
    {
     "name": "stdout",
     "output_type": "stream",
     "text": [
      "first 5 rows \n",
      "   sepal_length  sepal_width  petal_length  petal_width species\n",
      "0           5.1          3.5           1.4          0.2  setosa\n",
      "1           4.9          3.0           1.4          0.2  setosa\n",
      "2           4.7          3.2           1.3          0.2  setosa\n",
      "3           4.6          3.1           1.5          0.2  setosa\n",
      "4           5.0          3.6           1.4          0.2  setosa\n"
     ]
    }
   ],
   "source": [
    "print(\"first 5 rows \")\n",
    "print(df.head())"
   ]
  },
  {
   "cell_type": "code",
   "execution_count": 142,
   "id": "944d8a88",
   "metadata": {},
   "outputs": [],
   "source": [
    "Mean = df[\"sepal_length\"].mean()\n",
    "Median = df[\"sepal_length\"].median()\n",
    "StandardDeviation = df[\"sepal_length\"].std()"
   ]
  },
  {
   "cell_type": "code",
   "execution_count": 143,
   "id": "0c51d598",
   "metadata": {},
   "outputs": [
    {
     "name": "stdout",
     "output_type": "stream",
     "text": [
      " mean : 5.843333333333334, \n",
      " median: 5.8,\n",
      " StandardDeviation: 0.828066127977863\n"
     ]
    }
   ],
   "source": [
    "print(f\" mean : {Mean}, \\n median: {Median},\\n StandardDeviation: {StandardDeviation}\")"
   ]
  },
  {
   "cell_type": "code",
   "execution_count": 144,
   "id": "42a3bf4c",
   "metadata": {},
   "outputs": [],
   "source": [
    "# لما يهل الورد البلدي كل الورد يخاف\n",
    "speciescounts = df [\"species\"] .value_counts()"
   ]
  },
  {
   "cell_type": "code",
   "execution_count": 145,
   "id": "ce905433",
   "metadata": {},
   "outputs": [
    {
     "name": "stdout",
     "output_type": "stream",
     "text": [
      "\n",
      " number of species (flowers)\n",
      "species\n",
      "setosa        50\n",
      "versicolor    50\n",
      "virginica     50\n",
      "Name: count, dtype: int64\n"
     ]
    }
   ],
   "source": [
    "print(\"\\n number of species (flowers)\") \n",
    "print(speciescounts)"
   ]
  },
  {
   "cell_type": "code",
   "execution_count": 146,
   "id": "9f7efd48",
   "metadata": {},
   "outputs": [],
   "source": [
    "petallengh = df [\"petal_length\"].mean()\n",
    "filterDf = df[df['petal_length'] > petallengh]"
   ]
  },
  {
   "cell_type": "code",
   "execution_count": 147,
   "id": "5a4c3a01",
   "metadata": {},
   "outputs": [
    {
     "name": "stdout",
     "output_type": "stream",
     "text": [
      "\n",
      " rows when petal_length is greater than the average:\n",
      "     sepal_length  sepal_width  petal_length  petal_width     species\n",
      "50            7.0          3.2           4.7          1.4  versicolor\n",
      "51            6.4          3.2           4.5          1.5  versicolor\n",
      "52            6.9          3.1           4.9          1.5  versicolor\n",
      "53            5.5          2.3           4.0          1.3  versicolor\n",
      "54            6.5          2.8           4.6          1.5  versicolor\n",
      "..            ...          ...           ...          ...         ...\n",
      "145           6.7          3.0           5.2          2.3   virginica\n",
      "146           6.3          2.5           5.0          1.9   virginica\n",
      "147           6.5          3.0           5.2          2.0   virginica\n",
      "148           6.2          3.4           5.4          2.3   virginica\n",
      "149           5.9          3.0           5.1          1.8   virginica\n",
      "\n",
      "[93 rows x 5 columns]\n"
     ]
    }
   ],
   "source": [
    "print(\"\\n rows when petal_length is greater than the average:\")\n",
    "print(filterDf)"
   ]
  },
  {
   "cell_type": "code",
   "execution_count": 148,
   "id": "734e1cd9",
   "metadata": {},
   "outputs": [
    {
     "name": "stdout",
     "output_type": "stream",
     "text": [
      "\n",
      " filtered data  are saved to irisfiltered.csv\n"
     ]
    }
   ],
   "source": [
    "filterDf.to_csv(\"irisfiltered.csv\")\n",
    "print(\"\\n filtered data  are saved to irisfiltered.csv\")"
   ]
  }
 ],
 "metadata": {
  "kernelspec": {
   "display_name": "Python 3",
   "language": "python",
   "name": "python3"
  },
  "language_info": {
   "codemirror_mode": {
    "name": "ipython",
    "version": 3
   },
   "file_extension": ".py",
   "mimetype": "text/x-python",
   "name": "python",
   "nbconvert_exporter": "python",
   "pygments_lexer": "ipython3",
   "version": "3.13.2"
  }
 },
 "nbformat": 4,
 "nbformat_minor": 5
}
