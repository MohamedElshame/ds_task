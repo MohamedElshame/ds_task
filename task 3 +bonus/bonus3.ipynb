{
 "cells": [
  {
   "cell_type": "code",
   "execution_count": 4,
   "id": "8784f53c",
   "metadata": {},
   "outputs": [],
   "source": [
    "import requests\n",
    "\n",
    "import pandas as pd\n",
    "from bs4 import BeautifulSoup"
   ]
  },
  {
   "cell_type": "code",
   "execution_count": 5,
   "id": "7f71b43d",
   "metadata": {},
   "outputs": [],
   "source": [
    "url = \"https://en.wikipedia.org/wiki/List_of_countries_by_GDP_(nominal)\""
   ]
  },
  {
   "cell_type": "code",
   "execution_count": 6,
   "id": "c0db4edf",
   "metadata": {},
   "outputs": [],
   "source": [
    "responsebody = requests.get(url)\n",
    "soup = BeautifulSoup(responsebody.content, \"html.parser\")"
   ]
  },
  {
   "cell_type": "code",
   "execution_count": null,
   "id": "31056be5",
   "metadata": {},
   "outputs": [],
   "source": []
  },
  {
   "cell_type": "code",
   "execution_count": null,
   "id": "e6ea17e2",
   "metadata": {},
   "outputs": [],
   "source": [
    "table = soup.find(\"table\" , {\"class\":\"wikitable\"})\n",
    "df = pd.read_html(str(table))[0]\n",
    "#IMF estimates بنستخرج "
   ]
  },
  {
   "cell_type": "code",
   "execution_count": 8,
   "id": "f86671c5",
   "metadata": {},
   "outputs": [],
   "source": [
    "df['Country/Territory'] = df['Country/Territory'].astype(str).replace(r'\\[.*\\]', '  ', regex=True)\n",
    " # بصراحة دورت شويه في السطر دا "
   ]
  },
  {
   "cell_type": "code",
   "execution_count": 9,
   "id": "333e8e83",
   "metadata": {},
   "outputs": [
    {
     "name": "stdout",
     "output_type": "stream",
     "text": [
      "MultiIndex([( 'Country/Territory', 'Country/Territory'),\n",
      "            (        'IMF[1][12]',          'Forecast'),\n",
      "            (        'IMF[1][12]',              'Year'),\n",
      "            (    'World Bank[13]',          'Estimate'),\n",
      "            (    'World Bank[13]',              'Year'),\n",
      "            ('United Nations[14]',          'Estimate'),\n",
      "            ('United Nations[14]',              'Year')],\n",
      "           )\n"
     ]
    },
    {
     "data": {
      "text/html": [
       "<div>\n",
       "<style scoped>\n",
       "    .dataframe tbody tr th:only-of-type {\n",
       "        vertical-align: middle;\n",
       "    }\n",
       "\n",
       "    .dataframe tbody tr th {\n",
       "        vertical-align: top;\n",
       "    }\n",
       "\n",
       "    .dataframe thead tr th {\n",
       "        text-align: left;\n",
       "    }\n",
       "</style>\n",
       "<table border=\"1\" class=\"dataframe\">\n",
       "  <thead>\n",
       "    <tr>\n",
       "      <th></th>\n",
       "      <th>Country/Territory</th>\n",
       "      <th colspan=\"2\" halign=\"left\">IMF[1][12]</th>\n",
       "      <th colspan=\"2\" halign=\"left\">World Bank[13]</th>\n",
       "      <th colspan=\"2\" halign=\"left\">United Nations[14]</th>\n",
       "    </tr>\n",
       "    <tr>\n",
       "      <th></th>\n",
       "      <th>Country/Territory</th>\n",
       "      <th>Forecast</th>\n",
       "      <th>Year</th>\n",
       "      <th>Estimate</th>\n",
       "      <th>Year</th>\n",
       "      <th>Estimate</th>\n",
       "      <th>Year</th>\n",
       "    </tr>\n",
       "  </thead>\n",
       "  <tbody>\n",
       "    <tr>\n",
       "      <th>0</th>\n",
       "      <td>World</td>\n",
       "      <td>113795678</td>\n",
       "      <td>2025</td>\n",
       "      <td>105435540</td>\n",
       "      <td>2023</td>\n",
       "      <td>100834796</td>\n",
       "      <td>2022</td>\n",
       "    </tr>\n",
       "    <tr>\n",
       "      <th>1</th>\n",
       "      <td>United States</td>\n",
       "      <td>30507217</td>\n",
       "      <td>2025</td>\n",
       "      <td>27360935</td>\n",
       "      <td>2023</td>\n",
       "      <td>25744100</td>\n",
       "      <td>2022</td>\n",
       "    </tr>\n",
       "    <tr>\n",
       "      <th>2</th>\n",
       "      <td>China</td>\n",
       "      <td>19231705</td>\n",
       "      <td>[n 1]2025</td>\n",
       "      <td>17794782</td>\n",
       "      <td>[n 3]2023</td>\n",
       "      <td>17963170</td>\n",
       "      <td>[n 1]2022</td>\n",
       "    </tr>\n",
       "    <tr>\n",
       "      <th>3</th>\n",
       "      <td>Germany</td>\n",
       "      <td>4744804</td>\n",
       "      <td>2025</td>\n",
       "      <td>4456081</td>\n",
       "      <td>2023</td>\n",
       "      <td>4076923</td>\n",
       "      <td>2022</td>\n",
       "    </tr>\n",
       "    <tr>\n",
       "      <th>4</th>\n",
       "      <td>India</td>\n",
       "      <td>4187017</td>\n",
       "      <td>2025</td>\n",
       "      <td>3549919</td>\n",
       "      <td>2023</td>\n",
       "      <td>3465541</td>\n",
       "      <td>2022</td>\n",
       "    </tr>\n",
       "  </tbody>\n",
       "</table>\n",
       "</div>"
      ],
      "text/plain": [
       "  Country/Territory IMF[1][12]            World Bank[13]             \\\n",
       "  Country/Territory   Forecast       Year       Estimate       Year   \n",
       "0             World  113795678       2025      105435540       2023   \n",
       "1     United States   30507217       2025       27360935       2023   \n",
       "2             China   19231705  [n 1]2025       17794782  [n 3]2023   \n",
       "3           Germany    4744804       2025        4456081       2023   \n",
       "4             India    4187017       2025        3549919       2023   \n",
       "\n",
       "  United Nations[14]             \n",
       "            Estimate       Year  \n",
       "0          100834796       2022  \n",
       "1           25744100       2022  \n",
       "2           17963170  [n 1]2022  \n",
       "3            4076923       2022  \n",
       "4            3465541       2022  "
      ]
     },
     "execution_count": 9,
     "metadata": {},
     "output_type": "execute_result"
    }
   ],
   "source": [
    " # تأكيد بس\n",
    "print(df.columns)\n",
    "df.head()"
   ]
  },
  {
   "cell_type": "code",
   "execution_count": 10,
   "id": "9869eaef",
   "metadata": {},
   "outputs": [
    {
     "name": "stdout",
     "output_type": "stream",
     "text": [
      " saved to 'gdpdata.csv'\n"
     ]
    }
   ],
   "source": [
    "df.to_csv(\"gdpdata.csv\", index=False)\n",
    "print(\" saved to 'gdpdata.csv'\")"
   ]
  }
 ],
 "metadata": {
  "kernelspec": {
   "display_name": "Python 3",
   "language": "python",
   "name": "python3"
  },
  "language_info": {
   "codemirror_mode": {
    "name": "ipython",
    "version": 3
   },
   "file_extension": ".py",
   "mimetype": "text/x-python",
   "name": "python",
   "nbconvert_exporter": "python",
   "pygments_lexer": "ipython3",
   "version": "3.13.2"
  }
 },
 "nbformat": 4,
 "nbformat_minor": 5
}
